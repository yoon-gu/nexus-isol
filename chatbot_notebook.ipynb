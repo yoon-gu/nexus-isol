{
 "cells": [
  {
   "cell_type": "markdown",
   "metadata": {},
   "source": [
    "# Gradio Chatbot in Jupyter Notebook\n",
    "이 노트북에서는 Gradio를 사용한 간단한 챗봇을 실행해봅니다."
   ]
  },
  {
   "cell_type": "code",
   "execution_count": 1,
   "metadata": {},
   "outputs": [
    {
     "name": "stderr",
     "output_type": "stream",
     "text": [
      "c:\\repos\\nexus-isol\\.venv\\Lib\\site-packages\\tqdm\\auto.py:21: TqdmWarning: IProgress not found. Please update jupyter and ipywidgets. See https://ipywidgets.readthedocs.io/en/stable/user_install.html\n",
      "  from .autonotebook import tqdm as notebook_tqdm\n",
      "2025/06/19 23:15:24 INFO mlflow.tracking.fluent: Experiment with name 'gradio-chatbot-notebook' does not exist. Creating a new experiment.\n"
     ]
    }
   ],
   "source": [
    "import gradio as gr\n",
    "import random\n",
    "import time\n",
    "import mlflow\n",
    "\n",
    "# MLflow 설정 (선택사항)\n",
    "mlflow.set_tracking_uri(\"http://127.0.0.1:5000\")\n",
    "mlflow.set_experiment(\"gradio-chatbot-notebook\")\n",
    "\n",
    "# 간단한 챗봇 응답 함수\n",
    "@mlflow.trace\n",
    "def respond(message, chat_history):\n",
    "    # 간단한 응답 변형\n",
    "    responses = [\n",
    "        f\"You said: {message}\",\n",
    "        f\"I heard: {message}\",\n",
    "        f\"Interesting! You mentioned: {message}\",\n",
    "        f\"Thanks for sharing: {message}\",\n",
    "        f\"I'm a simple chatbot. You told me: {message}\"\n",
    "    ]\n",
    "    \n",
    "    # 처리 시간 시뮬레이션\n",
    "    time.sleep(1)\n",
    "    \n",
    "    # 랜덤 응답 선택\n",
    "    bot_message = random.choice(responses)\n",
    "    chat_history.append((message, bot_message))\n",
    "    \n",
    "    return \"\", chat_history"
   ]
  },
  {
   "cell_type": "code",
   "execution_count": null,
   "metadata": {},
   "outputs": [
    {
     "name": "stderr",
     "output_type": "stream",
     "text": [
      "C:\\Users\\yoong\\AppData\\Local\\Temp\\ipykernel_21208\\2918432251.py:6: UserWarning: You have not specified a value for the `type` parameter. Defaulting to the 'tuples' format for chatbot messages, but this is deprecated and will be removed in a future version of Gradio. Please set type='messages' instead, which uses openai-style dictionaries with 'role' and 'content' keys.\n",
      "  chatbot = gr.Chatbot()\n"
     ]
    },
    {
     "name": "stdout",
     "output_type": "stream",
     "text": [
      "* Running on local URL:  http://127.0.0.1:7860\n",
      "* Running on public URL: https://29eef287e7db6989ca.gradio.live\n",
      "\n",
      "This share link expires in 1 week. For free permanent hosting and GPU upgrades, run `gradio deploy` from the terminal in the working directory to deploy to Hugging Face Spaces (https://huggingface.co/spaces)\n"
     ]
    },
    {
     "data": {
      "text/html": [
       "<div><iframe src=\"https://29eef287e7db6989ca.gradio.live\" width=\"100%\" height=\"500\" allow=\"autoplay; camera; microphone; clipboard-read; clipboard-write;\" frameborder=\"0\" allowfullscreen></iframe></div>"
      ],
      "text/plain": [
       "<IPython.core.display.HTML object>"
      ]
     },
     "metadata": {},
     "output_type": "display_data"
    }
   ],
   "source": [
    "# Gradio 인터페이스 생성\n",
    "with gr.Blocks() as demo:\n",
    "    gr.Markdown(\"# 🤖 주피터 노트북 챗봇\")\n",
    "    \n",
    "    # 챗봇 인터페이스\n",
    "    chatbot = gr.Chatbot()\n",
    "    msg = gr.Textbox(label=\"메시지를 입력하세요\")\n",
    "    clear = gr.Button(\"대화 초기화\")\n",
    "    \n",
    "    # 메시지 핸들러 설정\n",
    "    msg.submit(respond, [msg, chatbot], [msg, chatbot])\n",
    "    \n",
    "    # 초기화 버튼 기능\n",
    "    def clear_chat():\n",
    "        return None, []\n",
    "    \n",
    "    clear.click(clear_chat, None, [msg, chatbot], queue=False)\n",
    "\n",
    "# 노트북에서 실행\n",
    "demo.launch(debug=True, share=True)"
   ]
  },
  {
   "cell_type": "code",
   "execution_count": null,
   "metadata": {},
   "outputs": [],
   "source": []
  }
 ],
 "metadata": {
  "kernelspec": {
   "display_name": ".venv",
   "language": "python",
   "name": "python3"
  },
  "language_info": {
   "codemirror_mode": {
    "name": "ipython",
    "version": 3
   },
   "file_extension": ".py",
   "mimetype": "text/x-python",
   "name": "python",
   "nbconvert_exporter": "python",
   "pygments_lexer": "ipython3",
   "version": "3.11.9"
  }
 },
 "nbformat": 4,
 "nbformat_minor": 4
}
