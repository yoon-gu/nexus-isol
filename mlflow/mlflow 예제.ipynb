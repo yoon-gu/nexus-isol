{
 "cells": [
  {
   "cell_type": "code",
   "execution_count": 1,
   "id": "f535a40a-6738-40fa-9058-cc796c547321",
   "metadata": {},
   "outputs": [],
   "source": [
    "import mlflow\n",
    "from mlflow.tracking import MlflowClient\n",
    "import pandas as pd\n",
    "\n",
    "def get_all_experiment_and_run_ids():\n",
    "    \"\"\"\n",
    "    MLflow에서 모든 experiment ID와 run ID를 조회하여 반환하는 함수\n",
    "    \n",
    "    Returns:\n",
    "        pd.DataFrame: experiment_id, experiment_name, run_id, run_name 컬럼을 가진 DataFrame\n",
    "    \"\"\"\n",
    "    client = MlflowClient()\n",
    "    \n",
    "    # 모든 실험 조회\n",
    "    experiments = client.search_experiments()\n",
    "    \n",
    "    results = []\n",
    "    \n",
    "    for experiment in experiments:\n",
    "        exp_id = experiment.experiment_id\n",
    "        exp_name = experiment.name\n",
    "        \n",
    "        # 각 실험의 모든 run 조회\n",
    "        runs = client.search_runs(experiment_ids=[exp_id])\n",
    "        \n",
    "        for run in runs:\n",
    "            run_id = run.info.run_id\n",
    "            run_name = run.data.tags.get(\"mlflow.runName\", \"\")  # run name이 있으면 가져오기\n",
    "            \n",
    "            results.append({\n",
    "                'experiment_id': exp_id,\n",
    "                'experiment_name': exp_name,\n",
    "                'run_id': run_id,\n",
    "                'run_name': run_name,\n",
    "                'status': run.info.status,\n",
    "                'start_time': pd.to_datetime(run.info.start_time, unit='ms')\n",
    "            })\n",
    "    \n",
    "    df = pd.DataFrame(results)\n",
    "    \n",
    "    # 결과 출력\n",
    "    print(f\"총 {len(df['experiment_id'].unique())}개의 실험에서 {len(df)}개의 run을 발견했습니다.\")\n",
    "    print(\"\\n실험별 run 개수:\")\n",
    "    print(df.groupby(['experiment_id', 'experiment_name']).size().reset_index(name='run_count'))\n",
    "    \n",
    "    return df"
   ]
  },
  {
   "cell_type": "code",
   "execution_count": 2,
   "id": "4a2a9baf-778a-469d-ba61-1447e867c077",
   "metadata": {},
   "outputs": [
    {
     "name": "stdout",
     "output_type": "stream",
     "text": [
      "총 1개의 실험에서 3개의 run을 발견했습니다.\n",
      "\n",
      "실험별 run 개수:\n",
      "        experiment_id          experiment_name  run_count\n",
      "0  926927982206685134  huggingface_cpu_example          3\n",
      "\n",
      "전체 결과:\n"
     ]
    },
    {
     "data": {
      "text/html": [
       "<div>\n",
       "<style scoped>\n",
       "    .dataframe tbody tr th:only-of-type {\n",
       "        vertical-align: middle;\n",
       "    }\n",
       "\n",
       "    .dataframe tbody tr th {\n",
       "        vertical-align: top;\n",
       "    }\n",
       "\n",
       "    .dataframe thead th {\n",
       "        text-align: right;\n",
       "    }\n",
       "</style>\n",
       "<table border=\"1\" class=\"dataframe\">\n",
       "  <thead>\n",
       "    <tr style=\"text-align: right;\">\n",
       "      <th></th>\n",
       "      <th>experiment_id</th>\n",
       "      <th>experiment_name</th>\n",
       "      <th>run_id</th>\n",
       "      <th>run_name</th>\n",
       "      <th>status</th>\n",
       "      <th>start_time</th>\n",
       "    </tr>\n",
       "  </thead>\n",
       "  <tbody>\n",
       "    <tr>\n",
       "      <th>0</th>\n",
       "      <td>926927982206685134</td>\n",
       "      <td>huggingface_cpu_example</td>\n",
       "      <td>af206b3e07ac489da3288d95ca0b0275</td>\n",
       "      <td>capable-auk-759</td>\n",
       "      <td>FINISHED</td>\n",
       "      <td>2025-07-14 14:02:12.262</td>\n",
       "    </tr>\n",
       "    <tr>\n",
       "      <th>1</th>\n",
       "      <td>926927982206685134</td>\n",
       "      <td>huggingface_cpu_example</td>\n",
       "      <td>5ea0f0d960cf4c0ca87dcd7cd859e147</td>\n",
       "      <td>adorable-dog-850</td>\n",
       "      <td>FAILED</td>\n",
       "      <td>2025-07-14 14:00:37.414</td>\n",
       "    </tr>\n",
       "    <tr>\n",
       "      <th>2</th>\n",
       "      <td>926927982206685134</td>\n",
       "      <td>huggingface_cpu_example</td>\n",
       "      <td>185943a87e634711972905ba2871dd81</td>\n",
       "      <td>adaptable-ape-998</td>\n",
       "      <td>FAILED</td>\n",
       "      <td>2025-07-14 14:00:16.427</td>\n",
       "    </tr>\n",
       "  </tbody>\n",
       "</table>\n",
       "</div>"
      ],
      "text/plain": [
       "        experiment_id          experiment_name  \\\n",
       "0  926927982206685134  huggingface_cpu_example   \n",
       "1  926927982206685134  huggingface_cpu_example   \n",
       "2  926927982206685134  huggingface_cpu_example   \n",
       "\n",
       "                             run_id           run_name    status  \\\n",
       "0  af206b3e07ac489da3288d95ca0b0275    capable-auk-759  FINISHED   \n",
       "1  5ea0f0d960cf4c0ca87dcd7cd859e147   adorable-dog-850    FAILED   \n",
       "2  185943a87e634711972905ba2871dd81  adaptable-ape-998    FAILED   \n",
       "\n",
       "               start_time  \n",
       "0 2025-07-14 14:02:12.262  \n",
       "1 2025-07-14 14:00:37.414  \n",
       "2 2025-07-14 14:00:16.427  "
      ]
     },
     "metadata": {},
     "output_type": "display_data"
    },
    {
     "name": "stdout",
     "output_type": "stream",
     "text": [
      "로드 완료: 1개 실험, 3개 run\n"
     ]
    }
   ],
   "source": [
    "# 함수 실행\n",
    "df = get_all_experiment_and_run_ids()\n",
    "print(\"\\n전체 결과:\")\n",
    "display(df)\n",
    "print(f\"로드 완료: {len(df['experiment_id'].unique())}개 실험, {len(df)}개 run\")"
   ]
  },
  {
   "cell_type": "code",
   "execution_count": 3,
   "id": "600ee4f1-82ee-4c96-8100-cc165df24ade",
   "metadata": {},
   "outputs": [],
   "source": [
    "import ipywidgets as widgets\n",
    "from IPython.display import display, clear_output"
   ]
  },
  {
   "cell_type": "code",
   "execution_count": 4,
   "id": "3d66246f-7e37-4ca8-b1ee-8b3abe3b19d4",
   "metadata": {},
   "outputs": [],
   "source": [
    "selected_run_id = \"af206b3e07ac489da3288d95ca0b0275\"\n",
    "client = MlflowClient()\n",
    "run = client.get_run(selected_run_id)"
   ]
  },
  {
   "cell_type": "code",
   "execution_count": 5,
   "id": "d46aa68e-1961-462e-aeaf-aaea7cadcb2c",
   "metadata": {
    "scrolled": true
   },
   "outputs": [
    {
     "name": "stdout",
     "output_type": "stream",
     "text": [
      "{'metrics': {'epoch': 3.0,\n",
      "             'grad_norm': 2.7219505310058594,\n",
      "             'learning_rate': 3.3333333333333333e-06,\n",
      "             'loss': 0.6741,\n",
      "             'total_flos': 99350548992.0,\n",
      "             'train_loss': 0.7087755103905996,\n",
      "             'train_runtime': 13.1954,\n",
      "             'train_samples_per_second': 0.909,\n",
      "             'train_steps_per_second': 0.455},\n",
      " 'params': {'_name_or_path': 'distilbert-base-uncased',\n",
      "            'accelerator_config': \"{'split_batches': False, \"\n",
      "                                  \"'dispatch_batches': None, 'even_batches': \"\n",
      "                                  \"True, 'use_seedable_sampler': True, \"\n",
      "                                  \"'non_blocking': False, \"\n",
      "                                  \"'gradient_accumulation_kwargs': None}\",\n",
      "            'activation': 'gelu',\n",
      "            'adafactor': 'False',\n",
      "            'adam_beta1': '0.9',\n",
      "            'adam_beta2': '0.999',\n",
      "            'adam_epsilon': '1e-08',\n",
      "            'add_cross_attention': 'False',\n",
      "            'architectures': \"['DistilBertForMaskedLM']\",\n",
      "            'attention_dropout': '0.1',\n",
      "            'auto_find_batch_size': 'False',\n",
      "            'average_tokens_across_devices': 'False',\n",
      "            'bad_words_ids': 'None',\n",
      "            'batch_eval_metrics': 'False',\n",
      "            'begin_suppress_tokens': 'None',\n",
      "            'bf16': 'False',\n",
      "            'bf16_full_eval': 'False',\n",
      "            'bos_token_id': 'None',\n",
      "            'chunk_size_feed_forward': '0',\n",
      "            'cross_attention_hidden_size': 'None',\n",
      "            'data_seed': 'None',\n",
      "            'dataloader_drop_last': 'False',\n",
      "            'dataloader_num_workers': '0',\n",
      "            'dataloader_persistent_workers': 'False',\n",
      "            'dataloader_pin_memory': 'True',\n",
      "            'dataloader_prefetch_factor': 'None',\n",
      "            'ddp_backend': 'None',\n",
      "            'ddp_broadcast_buffers': 'None',\n",
      "            'ddp_bucket_cap_mb': 'None',\n",
      "            'ddp_find_unused_parameters': 'None',\n",
      "            'ddp_timeout': '1800',\n",
      "            'debug': '[]',\n",
      "            'decoder_start_token_id': 'None',\n",
      "            'deepspeed': 'None',\n",
      "            'dim': '768',\n",
      "            'disable_tqdm': 'False',\n",
      "            'diversity_penalty': '0.0',\n",
      "            'do_eval': 'False',\n",
      "            'do_predict': 'False',\n",
      "            'do_sample': 'False',\n",
      "            'do_train': 'False',\n",
      "            'dropout': '0.1',\n",
      "            'early_stopping': 'False',\n",
      "            'encoder_no_repeat_ngram_size': '0',\n",
      "            'eos_token_id': 'None',\n",
      "            'eval_accumulation_steps': 'None',\n",
      "            'eval_delay': '0',\n",
      "            'eval_do_concat_batches': 'True',\n",
      "            'eval_on_start': 'False',\n",
      "            'eval_steps': 'None',\n",
      "            'eval_strategy': 'no',\n",
      "            'eval_use_gather_object': 'False',\n",
      "            'exponential_decay_length_penalty': 'None',\n",
      "            'finetuning_task': 'None',\n",
      "            'forced_bos_token_id': 'None',\n",
      "            'forced_eos_token_id': 'None',\n",
      "            'fp16': 'False',\n",
      "            'fp16_backend': 'auto',\n",
      "            'fp16_full_eval': 'False',\n",
      "            'fp16_opt_level': 'O1',\n",
      "            'fsdp': '[]',\n",
      "            'fsdp_config': \"{'min_num_params': 0, 'xla': False, 'xla_fsdp_v2': \"\n",
      "                           \"False, 'xla_fsdp_grad_ckpt': False}\",\n",
      "            'fsdp_min_num_params': '0',\n",
      "            'fsdp_transformer_layer_cls_to_wrap': 'None',\n",
      "            'full_determinism': 'False',\n",
      "            'gradient_accumulation_steps': '1',\n",
      "            'gradient_checkpointing': 'False',\n",
      "            'gradient_checkpointing_kwargs': 'None',\n",
      "            'greater_is_better': 'None',\n",
      "            'group_by_length': 'False',\n",
      "            'half_precision_backend': 'auto',\n",
      "            'hidden_dim': '3072',\n",
      "            'hub_always_push': 'False',\n",
      "            'hub_model_id': 'None',\n",
      "            'hub_private_repo': 'None',\n",
      "            'hub_revision': 'None',\n",
      "            'hub_strategy': 'every_save',\n",
      "            'hub_token': '<HUB_TOKEN>',\n",
      "            'id2label': \"{0: 'LABEL_0', 1: 'LABEL_1'}\",\n",
      "            'ignore_data_skip': 'False',\n",
      "            'include_for_metrics': '[]',\n",
      "            'include_inputs_for_metrics': 'False',\n",
      "            'include_num_input_tokens_seen': 'False',\n",
      "            'include_tokens_per_second': 'False',\n",
      "            'initializer_range': '0.02',\n",
      "            'is_decoder': 'False',\n",
      "            'is_encoder_decoder': 'False',\n",
      "            'jit_mode_eval': 'False',\n",
      "            'label2id': \"{'LABEL_0': 0, 'LABEL_1': 1}\",\n",
      "            'label_names': 'None',\n",
      "            'label_smoothing_factor': '0.0',\n",
      "            'learning_rate': '2e-05',\n",
      "            'length_column_name': 'length',\n",
      "            'length_penalty': '1.0',\n",
      "            'liger_kernel_config': 'None',\n",
      "            'load_best_model_at_end': 'False',\n",
      "            'local_rank': '0',\n",
      "            'log_level': 'passive',\n",
      "            'log_level_replica': 'warning',\n",
      "            'log_on_each_node': 'True',\n",
      "            'logging_dir': './results/runs/Jul14_14-02-12_d1ea1c980925',\n",
      "            'logging_first_step': 'False',\n",
      "            'logging_nan_inf_filter': 'True',\n",
      "            'logging_steps': '1',\n",
      "            'logging_strategy': 'steps',\n",
      "            'lr_scheduler_kwargs': '{}',\n",
      "            'lr_scheduler_type': 'linear',\n",
      "            'max_grad_norm': '1.0',\n",
      "            'max_length': '20',\n",
      "            'max_position_embeddings': '512',\n",
      "            'max_steps': '-1',\n",
      "            'metric_for_best_model': 'None',\n",
      "            'min_length': '0',\n",
      "            'model_type': 'distilbert',\n",
      "            'mp_parameters': '',\n",
      "            'n_heads': '12',\n",
      "            'n_layers': '6',\n",
      "            'neftune_noise_alpha': 'None',\n",
      "            'no_cuda': 'False',\n",
      "            'no_repeat_ngram_size': '0',\n",
      "            'num_beam_groups': '1',\n",
      "            'num_beams': '1',\n",
      "            'num_return_sequences': '1',\n",
      "            'num_train_epochs': '3',\n",
      "            'optim': 'adamw_torch',\n",
      "            'optim_args': 'None',\n",
      "            'optim_target_modules': 'None',\n",
      "            'output_attentions': 'False',\n",
      "            'output_dir': './results',\n",
      "            'output_hidden_states': 'False',\n",
      "            'output_scores': 'False',\n",
      "            'overwrite_output_dir': 'False',\n",
      "            'pad_token_id': '0',\n",
      "            'past_index': '-1',\n",
      "            'per_device_eval_batch_size': '8',\n",
      "            'per_device_train_batch_size': '2',\n",
      "            'per_gpu_eval_batch_size': 'None',\n",
      "            'per_gpu_train_batch_size': 'None',\n",
      "            'prediction_loss_only': 'False',\n",
      "            'prefix': 'None',\n",
      "            'problem_type': 'None',\n",
      "            'pruned_heads': '{}',\n",
      "            'push_to_hub': 'False',\n",
      "            'push_to_hub_model_id': 'None',\n",
      "            'push_to_hub_organization': 'None',\n",
      "            'push_to_hub_token': '<PUSH_TO_HUB_TOKEN>',\n",
      "            'qa_dropout': '0.1',\n",
      "            'ray_scope': 'last',\n",
      "            'remove_invalid_values': 'False',\n",
      "            'remove_unused_columns': 'True',\n",
      "            'repetition_penalty': '1.0',\n",
      "            'report_to': \"['mlflow']\",\n",
      "            'restore_callback_states_from_checkpoint': 'False',\n",
      "            'resume_from_checkpoint': 'None',\n",
      "            'return_dict': 'True',\n",
      "            'return_dict_in_generate': 'False',\n",
      "            'run_name': './results',\n",
      "            'save_on_each_node': 'False',\n",
      "            'save_only_model': 'False',\n",
      "            'save_safetensors': 'True',\n",
      "            'save_steps': '500',\n",
      "            'save_strategy': 'steps',\n",
      "            'save_total_limit': 'None',\n",
      "            'seed': '42',\n",
      "            'sep_token_id': 'None',\n",
      "            'seq_classif_dropout': '0.2',\n",
      "            'sinusoidal_pos_embds': 'False',\n",
      "            'skip_memory_metrics': 'True',\n",
      "            'suppress_tokens': 'None',\n",
      "            'task_specific_params': 'None',\n",
      "            'temperature': '1.0',\n",
      "            'tf32': 'None',\n",
      "            'tf_legacy_loss': 'False',\n",
      "            'tie_encoder_decoder': 'False',\n",
      "            'tie_weights_': 'True',\n",
      "            'tie_word_embeddings': 'True',\n",
      "            'tokenizer_class': 'None',\n",
      "            'top_k': '50',\n",
      "            'top_p': '1.0',\n",
      "            'torch_compile': 'False',\n",
      "            'torch_compile_backend': 'None',\n",
      "            'torch_compile_mode': 'None',\n",
      "            'torch_dtype': 'float32',\n",
      "            'torch_empty_cache_steps': 'None',\n",
      "            'torchdynamo': 'None',\n",
      "            'torchscript': 'False',\n",
      "            'tpu_metrics_debug': 'False',\n",
      "            'tpu_num_cores': 'None',\n",
      "            'transformers_version': '4.53.1',\n",
      "            'typical_p': '1.0',\n",
      "            'use_bfloat16': 'False',\n",
      "            'use_cpu': 'False',\n",
      "            'use_ipex': 'False',\n",
      "            'use_legacy_prediction_loop': 'False',\n",
      "            'use_liger_kernel': 'False',\n",
      "            'use_mps_device': 'False',\n",
      "            'vocab_size': '30522',\n",
      "            'warmup_ratio': '0.0',\n",
      "            'warmup_steps': '0',\n",
      "            'weight_decay': '0.0'},\n",
      " 'tags': {'mlflow.runName': 'capable-auk-759',\n",
      "          'mlflow.source.name': '/usr/local/lib/python3.11/dist-packages/colab_kernel_launcher.py',\n",
      "          'mlflow.source.type': 'LOCAL',\n",
      "          'mlflow.user': 'root'}}\n"
     ]
    }
   ],
   "source": [
    "from pprint import pprint\n",
    "pprint(run.data.to_dictionary())"
   ]
  },
  {
   "cell_type": "code",
   "execution_count": 6,
   "id": "e4369eb0-1564-44db-8303-7cf7e18efc92",
   "metadata": {},
   "outputs": [
    {
     "data": {
      "text/plain": [
       "['grad_norm',\n",
       " 'loss',\n",
       " 'epoch',\n",
       " 'learning_rate',\n",
       " 'train_runtime',\n",
       " 'train_loss',\n",
       " 'total_flos',\n",
       " 'train_steps_per_second',\n",
       " 'train_samples_per_second']"
      ]
     },
     "execution_count": 6,
     "metadata": {},
     "output_type": "execute_result"
    }
   ],
   "source": [
    "metric_names =  [k for k,v in run.data.metrics.items()]\n",
    "metric_names"
   ]
  },
  {
   "cell_type": "code",
   "execution_count": 7,
   "id": "fab426de-3c89-4f95-9c8f-9a3234c38c09",
   "metadata": {},
   "outputs": [
    {
     "data": {
      "text/html": [
       "<div>\n",
       "<style scoped>\n",
       "    .dataframe tbody tr th:only-of-type {\n",
       "        vertical-align: middle;\n",
       "    }\n",
       "\n",
       "    .dataframe tbody tr th {\n",
       "        vertical-align: top;\n",
       "    }\n",
       "\n",
       "    .dataframe thead th {\n",
       "        text-align: right;\n",
       "    }\n",
       "</style>\n",
       "<table border=\"1\" class=\"dataframe\">\n",
       "  <thead>\n",
       "    <tr style=\"text-align: right;\">\n",
       "      <th></th>\n",
       "      <th>step</th>\n",
       "      <th>name</th>\n",
       "      <th>value</th>\n",
       "    </tr>\n",
       "  </thead>\n",
       "  <tbody>\n",
       "    <tr>\n",
       "      <th>0</th>\n",
       "      <td>1</td>\n",
       "      <td>loss</td>\n",
       "      <td>0.7308</td>\n",
       "    </tr>\n",
       "    <tr>\n",
       "      <th>1</th>\n",
       "      <td>2</td>\n",
       "      <td>loss</td>\n",
       "      <td>0.7290</td>\n",
       "    </tr>\n",
       "    <tr>\n",
       "      <th>2</th>\n",
       "      <td>3</td>\n",
       "      <td>loss</td>\n",
       "      <td>0.7258</td>\n",
       "    </tr>\n",
       "    <tr>\n",
       "      <th>3</th>\n",
       "      <td>4</td>\n",
       "      <td>loss</td>\n",
       "      <td>0.6971</td>\n",
       "    </tr>\n",
       "    <tr>\n",
       "      <th>4</th>\n",
       "      <td>5</td>\n",
       "      <td>loss</td>\n",
       "      <td>0.6960</td>\n",
       "    </tr>\n",
       "    <tr>\n",
       "      <th>5</th>\n",
       "      <td>6</td>\n",
       "      <td>loss</td>\n",
       "      <td>0.6741</td>\n",
       "    </tr>\n",
       "  </tbody>\n",
       "</table>\n",
       "</div>"
      ],
      "text/plain": [
       "   step  name   value\n",
       "0     1  loss  0.7308\n",
       "1     2  loss  0.7290\n",
       "2     3  loss  0.7258\n",
       "3     4  loss  0.6971\n",
       "4     5  loss  0.6960\n",
       "5     6  loss  0.6741"
      ]
     },
     "execution_count": 7,
     "metadata": {},
     "output_type": "execute_result"
    }
   ],
   "source": [
    "selected_metric_name = metric_names[1]\n",
    "metric_history = client.get_metric_history(selected_run_id, selected_metric_name)\n",
    "\n",
    "records = []\n",
    "records.extend([\n",
    "    {\"step\": m.step, \"name\": selected_metric_name, \"value\": m.value}\n",
    "    for m in metric_history\n",
    "])\n",
    "\n",
    "df = pd.DataFrame(records)\n",
    "df"
   ]
  },
  {
   "cell_type": "code",
   "execution_count": 8,
   "id": "17284cab-db2f-492e-89be-49f749deedb2",
   "metadata": {},
   "outputs": [
    {
     "data": {
      "application/vnd.plotly.v1+json": {
       "config": {
        "plotlyServerURL": "https://plot.ly"
       },
       "data": [
        {
         "hovertemplate": "Step=%{x}<br>value=%{y}<extra></extra>",
         "legendgroup": "",
         "line": {
          "color": "#636efa",
          "dash": "solid"
         },
         "marker": {
          "symbol": "circle"
         },
         "mode": "lines+markers",
         "name": "",
         "orientation": "v",
         "showlegend": false,
         "type": "scatter",
         "x": {
          "bdata": "AQIDBAUG",
          "dtype": "i1"
         },
         "xaxis": "x",
         "y": {
          "bdata": "bVZ9rrZi5z+HFtnO91PnP0T67evAOec/ylTBqKRO5j8Sg8DKoUXmP6d5xyk6kuU/",
          "dtype": "f8"
         },
         "yaxis": "y"
        }
       ],
       "layout": {
        "legend": {
         "tracegroupgap": 0
        },
        "template": {
         "data": {
          "bar": [
           {
            "error_x": {
             "color": "#2a3f5f"
            },
            "error_y": {
             "color": "#2a3f5f"
            },
            "marker": {
             "line": {
              "color": "#E5ECF6",
              "width": 0.5
             },
             "pattern": {
              "fillmode": "overlay",
              "size": 10,
              "solidity": 0.2
             }
            },
            "type": "bar"
           }
          ],
          "barpolar": [
           {
            "marker": {
             "line": {
              "color": "#E5ECF6",
              "width": 0.5
             },
             "pattern": {
              "fillmode": "overlay",
              "size": 10,
              "solidity": 0.2
             }
            },
            "type": "barpolar"
           }
          ],
          "carpet": [
           {
            "aaxis": {
             "endlinecolor": "#2a3f5f",
             "gridcolor": "white",
             "linecolor": "white",
             "minorgridcolor": "white",
             "startlinecolor": "#2a3f5f"
            },
            "baxis": {
             "endlinecolor": "#2a3f5f",
             "gridcolor": "white",
             "linecolor": "white",
             "minorgridcolor": "white",
             "startlinecolor": "#2a3f5f"
            },
            "type": "carpet"
           }
          ],
          "choropleth": [
           {
            "colorbar": {
             "outlinewidth": 0,
             "ticks": ""
            },
            "type": "choropleth"
           }
          ],
          "contour": [
           {
            "colorbar": {
             "outlinewidth": 0,
             "ticks": ""
            },
            "colorscale": [
             [
              0,
              "#0d0887"
             ],
             [
              0.1111111111111111,
              "#46039f"
             ],
             [
              0.2222222222222222,
              "#7201a8"
             ],
             [
              0.3333333333333333,
              "#9c179e"
             ],
             [
              0.4444444444444444,
              "#bd3786"
             ],
             [
              0.5555555555555556,
              "#d8576b"
             ],
             [
              0.6666666666666666,
              "#ed7953"
             ],
             [
              0.7777777777777778,
              "#fb9f3a"
             ],
             [
              0.8888888888888888,
              "#fdca26"
             ],
             [
              1,
              "#f0f921"
             ]
            ],
            "type": "contour"
           }
          ],
          "contourcarpet": [
           {
            "colorbar": {
             "outlinewidth": 0,
             "ticks": ""
            },
            "type": "contourcarpet"
           }
          ],
          "heatmap": [
           {
            "colorbar": {
             "outlinewidth": 0,
             "ticks": ""
            },
            "colorscale": [
             [
              0,
              "#0d0887"
             ],
             [
              0.1111111111111111,
              "#46039f"
             ],
             [
              0.2222222222222222,
              "#7201a8"
             ],
             [
              0.3333333333333333,
              "#9c179e"
             ],
             [
              0.4444444444444444,
              "#bd3786"
             ],
             [
              0.5555555555555556,
              "#d8576b"
             ],
             [
              0.6666666666666666,
              "#ed7953"
             ],
             [
              0.7777777777777778,
              "#fb9f3a"
             ],
             [
              0.8888888888888888,
              "#fdca26"
             ],
             [
              1,
              "#f0f921"
             ]
            ],
            "type": "heatmap"
           }
          ],
          "histogram": [
           {
            "marker": {
             "pattern": {
              "fillmode": "overlay",
              "size": 10,
              "solidity": 0.2
             }
            },
            "type": "histogram"
           }
          ],
          "histogram2d": [
           {
            "colorbar": {
             "outlinewidth": 0,
             "ticks": ""
            },
            "colorscale": [
             [
              0,
              "#0d0887"
             ],
             [
              0.1111111111111111,
              "#46039f"
             ],
             [
              0.2222222222222222,
              "#7201a8"
             ],
             [
              0.3333333333333333,
              "#9c179e"
             ],
             [
              0.4444444444444444,
              "#bd3786"
             ],
             [
              0.5555555555555556,
              "#d8576b"
             ],
             [
              0.6666666666666666,
              "#ed7953"
             ],
             [
              0.7777777777777778,
              "#fb9f3a"
             ],
             [
              0.8888888888888888,
              "#fdca26"
             ],
             [
              1,
              "#f0f921"
             ]
            ],
            "type": "histogram2d"
           }
          ],
          "histogram2dcontour": [
           {
            "colorbar": {
             "outlinewidth": 0,
             "ticks": ""
            },
            "colorscale": [
             [
              0,
              "#0d0887"
             ],
             [
              0.1111111111111111,
              "#46039f"
             ],
             [
              0.2222222222222222,
              "#7201a8"
             ],
             [
              0.3333333333333333,
              "#9c179e"
             ],
             [
              0.4444444444444444,
              "#bd3786"
             ],
             [
              0.5555555555555556,
              "#d8576b"
             ],
             [
              0.6666666666666666,
              "#ed7953"
             ],
             [
              0.7777777777777778,
              "#fb9f3a"
             ],
             [
              0.8888888888888888,
              "#fdca26"
             ],
             [
              1,
              "#f0f921"
             ]
            ],
            "type": "histogram2dcontour"
           }
          ],
          "mesh3d": [
           {
            "colorbar": {
             "outlinewidth": 0,
             "ticks": ""
            },
            "type": "mesh3d"
           }
          ],
          "parcoords": [
           {
            "line": {
             "colorbar": {
              "outlinewidth": 0,
              "ticks": ""
             }
            },
            "type": "parcoords"
           }
          ],
          "pie": [
           {
            "automargin": true,
            "type": "pie"
           }
          ],
          "scatter": [
           {
            "fillpattern": {
             "fillmode": "overlay",
             "size": 10,
             "solidity": 0.2
            },
            "type": "scatter"
           }
          ],
          "scatter3d": [
           {
            "line": {
             "colorbar": {
              "outlinewidth": 0,
              "ticks": ""
             }
            },
            "marker": {
             "colorbar": {
              "outlinewidth": 0,
              "ticks": ""
             }
            },
            "type": "scatter3d"
           }
          ],
          "scattercarpet": [
           {
            "marker": {
             "colorbar": {
              "outlinewidth": 0,
              "ticks": ""
             }
            },
            "type": "scattercarpet"
           }
          ],
          "scattergeo": [
           {
            "marker": {
             "colorbar": {
              "outlinewidth": 0,
              "ticks": ""
             }
            },
            "type": "scattergeo"
           }
          ],
          "scattergl": [
           {
            "marker": {
             "colorbar": {
              "outlinewidth": 0,
              "ticks": ""
             }
            },
            "type": "scattergl"
           }
          ],
          "scattermap": [
           {
            "marker": {
             "colorbar": {
              "outlinewidth": 0,
              "ticks": ""
             }
            },
            "type": "scattermap"
           }
          ],
          "scattermapbox": [
           {
            "marker": {
             "colorbar": {
              "outlinewidth": 0,
              "ticks": ""
             }
            },
            "type": "scattermapbox"
           }
          ],
          "scatterpolar": [
           {
            "marker": {
             "colorbar": {
              "outlinewidth": 0,
              "ticks": ""
             }
            },
            "type": "scatterpolar"
           }
          ],
          "scatterpolargl": [
           {
            "marker": {
             "colorbar": {
              "outlinewidth": 0,
              "ticks": ""
             }
            },
            "type": "scatterpolargl"
           }
          ],
          "scatterternary": [
           {
            "marker": {
             "colorbar": {
              "outlinewidth": 0,
              "ticks": ""
             }
            },
            "type": "scatterternary"
           }
          ],
          "surface": [
           {
            "colorbar": {
             "outlinewidth": 0,
             "ticks": ""
            },
            "colorscale": [
             [
              0,
              "#0d0887"
             ],
             [
              0.1111111111111111,
              "#46039f"
             ],
             [
              0.2222222222222222,
              "#7201a8"
             ],
             [
              0.3333333333333333,
              "#9c179e"
             ],
             [
              0.4444444444444444,
              "#bd3786"
             ],
             [
              0.5555555555555556,
              "#d8576b"
             ],
             [
              0.6666666666666666,
              "#ed7953"
             ],
             [
              0.7777777777777778,
              "#fb9f3a"
             ],
             [
              0.8888888888888888,
              "#fdca26"
             ],
             [
              1,
              "#f0f921"
             ]
            ],
            "type": "surface"
           }
          ],
          "table": [
           {
            "cells": {
             "fill": {
              "color": "#EBF0F8"
             },
             "line": {
              "color": "white"
             }
            },
            "header": {
             "fill": {
              "color": "#C8D4E3"
             },
             "line": {
              "color": "white"
             }
            },
            "type": "table"
           }
          ]
         },
         "layout": {
          "annotationdefaults": {
           "arrowcolor": "#2a3f5f",
           "arrowhead": 0,
           "arrowwidth": 1
          },
          "autotypenumbers": "strict",
          "coloraxis": {
           "colorbar": {
            "outlinewidth": 0,
            "ticks": ""
           }
          },
          "colorscale": {
           "diverging": [
            [
             0,
             "#8e0152"
            ],
            [
             0.1,
             "#c51b7d"
            ],
            [
             0.2,
             "#de77ae"
            ],
            [
             0.3,
             "#f1b6da"
            ],
            [
             0.4,
             "#fde0ef"
            ],
            [
             0.5,
             "#f7f7f7"
            ],
            [
             0.6,
             "#e6f5d0"
            ],
            [
             0.7,
             "#b8e186"
            ],
            [
             0.8,
             "#7fbc41"
            ],
            [
             0.9,
             "#4d9221"
            ],
            [
             1,
             "#276419"
            ]
           ],
           "sequential": [
            [
             0,
             "#0d0887"
            ],
            [
             0.1111111111111111,
             "#46039f"
            ],
            [
             0.2222222222222222,
             "#7201a8"
            ],
            [
             0.3333333333333333,
             "#9c179e"
            ],
            [
             0.4444444444444444,
             "#bd3786"
            ],
            [
             0.5555555555555556,
             "#d8576b"
            ],
            [
             0.6666666666666666,
             "#ed7953"
            ],
            [
             0.7777777777777778,
             "#fb9f3a"
            ],
            [
             0.8888888888888888,
             "#fdca26"
            ],
            [
             1,
             "#f0f921"
            ]
           ],
           "sequentialminus": [
            [
             0,
             "#0d0887"
            ],
            [
             0.1111111111111111,
             "#46039f"
            ],
            [
             0.2222222222222222,
             "#7201a8"
            ],
            [
             0.3333333333333333,
             "#9c179e"
            ],
            [
             0.4444444444444444,
             "#bd3786"
            ],
            [
             0.5555555555555556,
             "#d8576b"
            ],
            [
             0.6666666666666666,
             "#ed7953"
            ],
            [
             0.7777777777777778,
             "#fb9f3a"
            ],
            [
             0.8888888888888888,
             "#fdca26"
            ],
            [
             1,
             "#f0f921"
            ]
           ]
          },
          "colorway": [
           "#636efa",
           "#EF553B",
           "#00cc96",
           "#ab63fa",
           "#FFA15A",
           "#19d3f3",
           "#FF6692",
           "#B6E880",
           "#FF97FF",
           "#FECB52"
          ],
          "font": {
           "color": "#2a3f5f"
          },
          "geo": {
           "bgcolor": "white",
           "lakecolor": "white",
           "landcolor": "#E5ECF6",
           "showlakes": true,
           "showland": true,
           "subunitcolor": "white"
          },
          "hoverlabel": {
           "align": "left"
          },
          "hovermode": "closest",
          "mapbox": {
           "style": "light"
          },
          "paper_bgcolor": "white",
          "plot_bgcolor": "#E5ECF6",
          "polar": {
           "angularaxis": {
            "gridcolor": "white",
            "linecolor": "white",
            "ticks": ""
           },
           "bgcolor": "#E5ECF6",
           "radialaxis": {
            "gridcolor": "white",
            "linecolor": "white",
            "ticks": ""
           }
          },
          "scene": {
           "xaxis": {
            "backgroundcolor": "#E5ECF6",
            "gridcolor": "white",
            "gridwidth": 2,
            "linecolor": "white",
            "showbackground": true,
            "ticks": "",
            "zerolinecolor": "white"
           },
           "yaxis": {
            "backgroundcolor": "#E5ECF6",
            "gridcolor": "white",
            "gridwidth": 2,
            "linecolor": "white",
            "showbackground": true,
            "ticks": "",
            "zerolinecolor": "white"
           },
           "zaxis": {
            "backgroundcolor": "#E5ECF6",
            "gridcolor": "white",
            "gridwidth": 2,
            "linecolor": "white",
            "showbackground": true,
            "ticks": "",
            "zerolinecolor": "white"
           }
          },
          "shapedefaults": {
           "line": {
            "color": "#2a3f5f"
           }
          },
          "ternary": {
           "aaxis": {
            "gridcolor": "white",
            "linecolor": "white",
            "ticks": ""
           },
           "baxis": {
            "gridcolor": "white",
            "linecolor": "white",
            "ticks": ""
           },
           "bgcolor": "#E5ECF6",
           "caxis": {
            "gridcolor": "white",
            "linecolor": "white",
            "ticks": ""
           }
          },
          "title": {
           "x": 0.05
          },
          "xaxis": {
           "automargin": true,
           "gridcolor": "white",
           "linecolor": "white",
           "ticks": "",
           "title": {
            "standoff": 15
           },
           "zerolinecolor": "white",
           "zerolinewidth": 2
          },
          "yaxis": {
           "automargin": true,
           "gridcolor": "white",
           "linecolor": "white",
           "ticks": "",
           "title": {
            "standoff": 15
           },
           "zerolinecolor": "white",
           "zerolinewidth": 2
          }
         }
        },
        "title": {
         "text": "loss over steps"
        },
        "xaxis": {
         "anchor": "y",
         "domain": [
          0,
          1
         ],
         "title": {
          "text": "Step"
         }
        },
        "yaxis": {
         "anchor": "x",
         "domain": [
          0,
          1
         ],
         "title": {
          "text": "value"
         }
        }
       }
      },
      "image/png": "[encoded data removed]"
     },
     "metadata": {},
     "output_type": "display_data"
    }
   ],
   "source": [
    "import plotly.express as px\n",
    "# Plotly Express로 한 줄에 라인 그래프 생성\n",
    "fig = px.line(\n",
    "    df, \n",
    "    x='step', \n",
    "    y='value',\n",
    "    title=f'{selected_metric_name} over steps',\n",
    "    labels={'step': 'Step', 'loss_value': f'{selected_metric_name}'},\n",
    "    markers=True\n",
    ")\n",
    "\n",
    "fig.show()"
   ]
  },
  {
   "cell_type": "code",
   "execution_count": null,
   "id": "5ec7184e-2934-4ca2-97ec-a94253c75bda",
   "metadata": {},
   "outputs": [],
   "source": []
  }
 ],
 "metadata": {
  "kernelspec": {
   "display_name": "Python 3 (ipykernel)",
   "language": "python",
   "name": "python3"
  },
  "language_info": {
   "codemirror_mode": {
    "name": "ipython",
    "version": 3
   },
   "file_extension": ".py",
   "mimetype": "text/x-python",
   "name": "python",
   "nbconvert_exporter": "python",
   "pygments_lexer": "ipython3",
   "version": "3.13.2"
  }
 },
 "nbformat": 4,
 "nbformat_minor": 5
}
